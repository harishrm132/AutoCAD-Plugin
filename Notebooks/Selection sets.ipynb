{
 "cells": [
  {
   "cell_type": "markdown",
   "metadata": {},
   "source": [
    "# Selection sets"
   ]
  },
  {
   "cell_type": "code",
   "execution_count": null,
   "metadata": {
    "dotnet_interactive": {
     "language": "csharp"
    }
   },
   "outputs": [],
   "source": [
    "#r \"C:\\Autodesk\\ObjectARX_for_AutoCAD_2021_Win_64bit_dlm\\inc\\AcCoreMgd.dll\"\r\n",
    "#r \"C:\\Autodesk\\ObjectARX_for_AutoCAD_2021_Win_64bit_dlm\\inc\\AcMgd.dll\"\r\n",
    "using ACAD = Autodesk.AutoCAD.ApplicationServices.Application;\r\n",
    "using Autodesk.AutoCAD.DatabaseServices;\r\n",
    "using Autodesk.AutoCAD.EditorInput;\r\n",
    "using Autodesk.AutoCAD.Geometry;\r\n",
    "using Autodesk.AutoCAD.Runtime;"
   ]
  },
  {
   "cell_type": "markdown",
   "metadata": {},
   "source": [
    "## PICKFIRST\r\n",
    "        • PICKFIRST system variable must be set to 1\r\n",
    "        • UsePickSet command flag must be defined with the command that should use the Pickfirst selection set\r\n",
    "        • Call the SelectImplied method to obtain the PickFirst selection set"
   ]
  },
  {
   "cell_type": "markdown",
   "metadata": {},
   "source": [
    "#### GetSelection\r\n",
    "Prompts the user to pick objects from the screen.\r\n",
    "\r\n",
    "#### SelectAll\r\n",
    "Selects all objects in the current space in which are not locked or frozen.\r\n",
    "\r\n",
    "#### SelectCrossingPolygon\r\n",
    "Selects objects within and crossing a polygon defined by specifying points. The polygon can be any shape but cannot cross or touch itself.\r\n",
    "\r\n",
    "#### SelectCrossingWindow\r\n",
    "Selects objects within and crossing an area defined by two points.\r\n",
    "\r\n",
    "#### SelectFence\r\n",
    "Selects all objects crossing a selection fence. Fence selection is similar to crossing polygon selection except that the fence is not closed, and a fence can cross itself.\r\n",
    "\r\n",
    "#### SelectLast\r\n",
    "Selects the last object created in the current space.\r\n",
    "\r\n",
    "#### SelectPrevious\r\n",
    "Selects all objects selected during the previous Select objects: prompt.\r\n",
    "\r\n",
    "#### SelectWindow\r\n",
    "Selects all objects completely inside a rectangle defined by two points.\r\n",
    "\r\n",
    "#### SelectWindowPolygon\r\n",
    "Selects objects completely inside a polygon defined by points. The polygon can be any shape but cannot cross or touch itself.\r\n",
    "\r\n",
    "#### SelectAtPoint\r\n",
    "Selects objects passing through a given point and places them into the active selection set.\r\n",
    "\r\n",
    "#### SelectByPolygon\r\n",
    "Selects objects within a fence and adds them to the active selection set."
   ]
  },
  {
   "cell_type": "code",
   "execution_count": null,
   "metadata": {
    "dotnet_interactive": {
     "language": "csharp"
    }
   },
   "outputs": [],
   "source": [
    "\r\n",
    "[CommandMethod(\"CheckSelectionSets\", CommandFlags.UsePickSet)] public static void SelectSet()\r\n",
    "{\r\n",
    "    Editor ed = ACAD.DocumentManager.MdiActiveDocument.Editor;\r\n",
    "    PromptSelectionResult acSSPrompt = ed.SelectImplied();\r\n",
    "    // Clear the PickFirst selection set\r\n",
    "    ObjectId[] idarrayEmpty = new ObjectId[0];\r\n",
    "    ed.SetImpliedSelection(idarrayEmpty);\r\n",
    "    // Request for objects to be selected in the drawing area\r\n",
    "    acSSPrompt = ed.GetSelection();\r\n",
    "    \r\n",
    "    //selects the objects within and that intersect a crossing window.\r\n",
    "    acSSPrompt = ed.SelectCrossingWindow(new Point3d(2, 2, 0), new Point3d(10, 8, 0));\r\n",
    "}"
   ]
  },
  {
   "cell_type": "markdown",
   "metadata": {},
   "source": [
    "## Add To or Merge Multiple Selection Sets\r\n",
    "    Merge multiple selection sets be creating an ObjectIdCollection object and then adding the object ids from multiple selection sets together."
   ]
  },
  {
   "cell_type": "code",
   "execution_count": null,
   "metadata": {
    "dotnet_interactive": {
     "language": "csharp"
    }
   },
   "outputs": [],
   "source": [
    "//Add To or Merge Multiple Selection Sets\r\n",
    "SelectionSet acSSet1;\r\n",
    "acSSet1 = acSSPrompt.Value;\r\n",
    "ObjectIdCollection coll = new ObjectIdCollection(acSSet1.GetObjectIds());\r\n",
    "SelectionSet acSSet2 = acSSPrompt.Value;\r\n",
    "if (coll.Count == 0)\r\n",
    "{\r\n",
    "    coll = new ObjectIdCollection(acSSet2.GetObjectIds());  \r\n",
    "}\r\n",
    "else\r\n",
    "{\r\n",
    "    foreach (ObjectId id in acSSet2.GetObjectIds())\r\n",
    "    {\r\n",
    "        coll.Add(id);\r\n",
    "    }\r\n",
    "}"
   ]
  },
  {
   "cell_type": "markdown",
   "metadata": {},
   "source": [
    "## Define Rules for Selection Filters\r\n",
    "    - A selection filter list can be used to filter selected objects by properties or type.\r\n",
    "    - Selection filters are composed of pairs of arguments in the form of TypedValues\r\n",
    "        - First = type of filter (Object)\r\n",
    "        - Second = value you are filtering on (Circle)\r\n",
    "\r\n",
    "![names](SelFilters.PNG)"
   ]
  },
  {
   "cell_type": "markdown",
   "metadata": {},
   "source": [
    "### Specify a single selection criterion for a selection set"
   ]
  },
  {
   "cell_type": "code",
   "execution_count": null,
   "metadata": {
    "dotnet_interactive": {
     "language": "csharp"
    }
   },
   "outputs": [],
   "source": [
    "// Create a TypedValue array to define the filter criteria\r\n",
    "TypedValue[] acTypValAr = new TypedValue[1];\r\n",
    "acTypValAr.SetValue(new TypedValue((int)DxfCode.Start, \"CIRCLE\"), 0);\r\n",
    "// Assign the filter criteria to a SelectionFilter object\r\n",
    "SelectionFilter acSelFtr = new SelectionFilter(acTypValAr);\r\n",
    "PromptSelectionResult acSSPrompt = ed.GetSelection(acSelFtr);\r\n"
   ]
  },
  {
   "cell_type": "markdown",
   "metadata": {},
   "source": [
    "### Specify Multiple Criteria in a Selection Filter\r\n",
    "    \r\n",
    "#### Two criterion to filter selected objects by: the object must be a circle and it must reside on layer 0."
   ]
  },
  {
   "cell_type": "code",
   "execution_count": null,
   "metadata": {
    "dotnet_interactive": {
     "language": "csharp"
    }
   },
   "outputs": [],
   "source": [
    "// Create a TypedValue array to define the filter criteria\r\n",
    "TypedValue[] acTypValAr = new TypedValue[3];\r\n",
    "acTypValAr.SetValue(new TypedValue((int)DxfCode.Color, 5), 0);\r\n",
    "acTypValAr.SetValue(new TypedValue((int)DxfCode.Start, \"CIRCLE\"), 1);\r\n",
    "acTypValAr.SetValue(new TypedValue((int)DxfCode.LayerName, \"0\"), 2);\r\n",
    "// Assign the filter criteria to a SelectionFilter object\r\n",
    "SelectionFilter acSelFtr = new SelectionFilter(acTypValAr);"
   ]
  },
  {
   "cell_type": "markdown",
   "metadata": {},
   "source": [
    "### Add Complexity to Your Filter List Conditions\r\n",
    "     Relational operations (for example, the radius of a circle must be greater than or equal to 5.0)\r\n",
    "     Use a -4 DXF code or the constant DxfCode.Operator to indicate a relational operator in a selection filter. \r\n",
    "          The operator is expressed as a string.\r\n",
    "\r\n",
    "| Operator | Description |\r\n",
    "| --- | --- |\r\n",
    "| \"&\" | Bitwise AND (integer groups only) |\r\n",
    "| \"&=\" | Bitwise masked equals (integer groups only) |\r\n",
    "\r\n",
    "![names](FilterLogicalOprs.PNG)\r\n",
    "\r\n",
    "#### Select a circle whose radius is greater than or equal to 5.0"
   ]
  },
  {
   "cell_type": "code",
   "execution_count": null,
   "metadata": {
    "dotnet_interactive": {
     "language": "csharp"
    }
   },
   "outputs": [],
   "source": [
    "// Create a TypedValue array to define the filter criteria\r\n",
    "TypedValue[] acTypValAr = new TypedValue[3];\r\n",
    "acTypValAr.SetValue(new TypedValue((int)DxfCode.Start, \"CIRCLE\"), 0);\r\n",
    "acTypValAr.SetValue(new TypedValue((int)DxfCode.Operator, \">=\"), 1);\r\n",
    "acTypValAr.SetValue(new TypedValue(40, 5), 2);\r\n",
    "// Assign the filter criteria to a SelectionFilter object\r\n",
    "SelectionFilter acSelFtr = new SelectionFilter(acTypValAr);"
   ]
  },
  {
   "cell_type": "markdown",
   "metadata": {},
   "source": [
    "#### Select either Text or MText"
   ]
  },
  {
   "cell_type": "code",
   "execution_count": null,
   "metadata": {
    "dotnet_interactive": {
     "language": "csharp"
    }
   },
   "outputs": [],
   "source": [
    "/ Create a TypedValue array to define the filter criteria\r\n",
    "TypedValue[] acTypValAr = new TypedValue[4];\r\n",
    "acTypValAr.SetValue(new TypedValue((int)DxfCode.Operator, \"<or\"), 0);\r\n",
    "acTypValAr.SetValue(new TypedValue((int)DxfCode.Start, \"TEXT\"), 1);\r\n",
    "acTypValAr.SetValue(new TypedValue((int)DxfCode.Start, \"MTEXT\"), 2);\r\n",
    "acTypValAr.SetValue(new TypedValue((int)DxfCode.Operator, \"or>\"), 3);\r\n",
    "// Assign the filter criteria to a SelectionFilter object\r\n",
    "SelectionFilter acSelFtr = new SelectionFilter(acTypValAr);"
   ]
  },
  {
   "cell_type": "markdown",
   "metadata": {},
   "source": [
    "### Use Wild-Card Patterns in Selection Set Filter Criteria"
   ]
  }
 ],
 "metadata": {
  "kernelspec": {
   "display_name": ".NET (C#)",
   "language": "C#",
   "name": ".net-csharp"
  },
  "language_info": {
   "name": "C#"
  }
 },
 "nbformat": 4,
 "nbformat_minor": 2
}